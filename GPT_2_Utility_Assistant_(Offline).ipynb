{
  "nbformat": 4,
  "nbformat_minor": 0,
  "metadata": {
    "colab": {
      "provenance": []
    },
    "kernelspec": {
      "name": "python3",
      "display_name": "Python 3"
    },
    "language_info": {
      "name": "python"
    }
  },
  "cells": [
    {
      "cell_type": "code",
      "source": [
        "!pip install transformers torch gradio --quiet\n",
        "\n",
        "from transformers import GPT2LMHeadModel, GPT2Tokenizer\n",
        "import torch\n",
        "import gradio as gr\n",
        "\n",
        "tokenizer = GPT2Tokenizer.from_pretrained(\"gpt2\")\n",
        "model = GPT2LMHeadModel.from_pretrained(\"gpt2\")\n",
        "model.eval()\n",
        "\n",
        "def gpt2_util(prompt, tool_type, max_length=150, temperature=0.7):\n",
        "    if tool_type == \"Summarizer\":\n",
        "        input_text = f\"Summarize this:\\n{prompt}\"\n",
        "    elif tool_type == \"Email Generator\":\n",
        "        input_text = f\"Write a professional email about:\\n{prompt}\"\n",
        "    elif tool_type == \"Text Rewriter\":\n",
        "        input_text = f\"Rewrite this clearly:\\n{prompt}\"\n",
        "    elif tool_type == \"Bullet to Paragraph\":\n",
        "        input_text = f\"Convert these bullet points into a paragraph:\\n{prompt}\"\n",
        "    else:\n",
        "        input_text = prompt\n",
        "\n",
        "    inputs = tokenizer.encode(input_text, return_tensors=\"pt\", max_length=512, truncation=True)\n",
        "    outputs = model.generate(\n",
        "        inputs,\n",
        "        max_length=max_length,\n",
        "        temperature=temperature,\n",
        "        do_sample=True,\n",
        "        top_k=50,\n",
        "        top_p=0.95,\n",
        "        num_return_sequences=1,\n",
        "        no_repeat_ngram_size=2\n",
        "    )\n",
        "    return tokenizer.decode(outputs[0], skip_special_tokens=True)\n",
        "\n",
        "iface = gr.Interface(\n",
        "    fn=gpt2_util,\n",
        "    inputs=[\n",
        "        gr.Textbox(lines=3, label=\"📥 Enter your text\"),\n",
        "        gr.Radio([\"Summarizer\", \"Email Generator\", \"Text Rewriter\", \"Bullet to Paragraph\"], label=\"🛠 Tool\"),\n",
        "        gr.Slider(50, 300, value=150, step=10, label=\"🧱 Max Length\"),\n",
        "        gr.Slider(0.1, 1.0, value=0.7, step=0.1, label=\"🔥 Accuracy\"),\n",
        "    ],\n",
        "    outputs=\"text\",\n",
        "    title=\"💼 GPT-2 Utility Assistant (Offline)\",\n",
        "    description=\"Summarize, rewrite, generate emails, or expand bullets using GPT-2 locally (no API key required).\"\n",
        ")\n",
        "\n",
        "iface.launch()"
      ],
      "metadata": {
        "colab": {
          "base_uri": "https://localhost:8080/",
          "height": 649
        },
        "id": "iOsvWJXtrh8B",
        "outputId": "a61907d4-a23b-4eee-c3e1-c912fc83061d"
      },
      "execution_count": 18,
      "outputs": [
        {
          "output_type": "stream",
          "name": "stdout",
          "text": [
            "It looks like you are running Gradio on a hosted Jupyter notebook, which requires `share=True`. Automatically setting `share=True` (you can turn this off by setting `share=False` in `launch()` explicitly).\n",
            "\n",
            "Colab notebook detected. To show errors in colab notebook, set debug=True in launch()\n",
            "* Running on public URL: https://42c90fe19d7232d6ce.gradio.live\n",
            "\n",
            "This share link expires in 1 week. For free permanent hosting and GPU upgrades, run `gradio deploy` from the terminal in the working directory to deploy to Hugging Face Spaces (https://huggingface.co/spaces)\n"
          ]
        },
        {
          "output_type": "display_data",
          "data": {
            "text/plain": [
              "<IPython.core.display.HTML object>"
            ],
            "text/html": [
              "<div><iframe src=\"https://42c90fe19d7232d6ce.gradio.live\" width=\"100%\" height=\"500\" allow=\"autoplay; camera; microphone; clipboard-read; clipboard-write;\" frameborder=\"0\" allowfullscreen></iframe></div>"
            ]
          },
          "metadata": {}
        },
        {
          "output_type": "execute_result",
          "data": {
            "text/plain": []
          },
          "metadata": {},
          "execution_count": 18
        }
      ]
    }
  ]
}